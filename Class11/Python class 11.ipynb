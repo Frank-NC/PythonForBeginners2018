{
 "cells": [
  {
   "cell_type": "code",
   "execution_count": 28,
   "metadata": {
    "collapsed": false
   },
   "outputs": [
    {
     "name": "stdout",
     "output_type": "stream",
     "text": [
      "[26, 54, 93, 17, 77, 31, 44, 55, 20]\n",
      "[26, 54, 17, 93, 77, 31, 44, 55, 20]\n",
      "[26, 54, 17, 77, 93, 31, 44, 55, 20]\n",
      "[26, 54, 17, 77, 31, 93, 44, 55, 20]\n",
      "[26, 54, 17, 77, 31, 44, 93, 55, 20]\n",
      "[26, 54, 17, 77, 31, 44, 55, 93, 20]\n",
      "[26, 54, 17, 77, 31, 44, 55, 20, 93]\n",
      "[26, 17, 54, 77, 31, 44, 55, 20, 93]\n",
      "[26, 17, 54, 31, 77, 44, 55, 20, 93]\n",
      "[26, 17, 54, 31, 44, 77, 55, 20, 93]\n",
      "[26, 17, 54, 31, 44, 55, 77, 20, 93]\n",
      "[26, 17, 54, 31, 44, 55, 20, 77, 93]\n",
      "[17, 26, 54, 31, 44, 55, 20, 77, 93]\n",
      "[17, 26, 31, 54, 44, 55, 20, 77, 93]\n",
      "[17, 26, 31, 44, 54, 55, 20, 77, 93]\n",
      "[17, 26, 31, 44, 54, 20, 55, 77, 93]\n",
      "[17, 26, 31, 44, 20, 54, 55, 77, 93]\n",
      "[17, 26, 31, 20, 44, 54, 55, 77, 93]\n",
      "[17, 26, 20, 31, 44, 54, 55, 77, 93]\n",
      "[17, 20, 26, 31, 44, 54, 55, 77, 93]\n",
      "[17, 20, 26, 31, 44, 54, 55, 77, 93]\n"
     ]
    }
   ],
   "source": [
    "def bubbleSort(alist):\n",
    "    for passnum in range(len(alist)-1,0,-1): #range(8, 0, -1)\n",
    "        for i in range(passnum): //step 1: passnum = 8, \n",
    "            if alist[i]>alist[i+1]://alist[3] alist[4]\n",
    "                temp = alist[i]\n",
    "                alist[i] = alist[i+1]\n",
    "                alist[i+1] = temp\n",
    "                print(alist)\n",
    "\n",
    "alist = [54,26,93,17,77,31,44,55,20]\n",
    "bubbleSort(alist)\n",
    "print(alist)"
   ]
  },
  {
   "cell_type": "code",
   "execution_count": 34,
   "metadata": {
    "collapsed": false
   },
   "outputs": [
    {
     "name": "stdout",
     "output_type": "stream",
     "text": [
      "Number of chickens are 0 and rabbits are 0.\n"
     ]
    }
   ],
   "source": [
    "def chicken_rabbit(total, numLegs): #c + r = 35; 2*c + 4*r = 94\n",
    "    for rabbits in range(total + 1):\n",
    "        chickens = total - rabbits\n",
    "        if 2 * chickens + 4 * rabbits == numLegs:\n",
    "            return chickens, rabbits\n",
    "    return 0, 0\n",
    "\n",
    "\n",
    "result = chicken_rabbit(3, 94)\n",
    "print(\"Number of chickens are %d and rabbits are %d.\" % result)"
   ]
  },
  {
   "cell_type": "code",
   "execution_count": 27,
   "metadata": {
    "collapsed": false
   },
   "outputs": [
    {
     "name": "stdout",
     "output_type": "stream",
     "text": [
      "a,2\n",
      "b,1\n",
      "f,3\n",
      "s,2\n",
      "d,2\n",
      "z,1\n",
      "c,1\n"
     ]
    }
   ],
   "source": [
    "def count_freq(data):\n",
    "    result = {}\n",
    "    \n",
    "    for char in data:\n",
    "        result[char] = result.get(char,0) +1 #dict.get(key, default = None)\n",
    "    return result\n",
    "\n",
    "result = count_freq(\"abfsdfsfdzac\")\n",
    "print('\\n'.join(['%s,%s' %(k, v) for k, v in result.items()])) #dict items(): return a list of tuple pairs"
   ]
  },
  {
   "cell_type": "code",
   "execution_count": 15,
   "metadata": {
    "collapsed": false
   },
   "outputs": [
    {
     "name": "stdout",
     "output_type": "stream",
     "text": [
      "(1, 6)\n"
     ]
    }
   ],
   "source": [
    "class Solution:\n",
    "    # @return a tuple, (index1, index2)\n",
    "    def twoSum(self, num, target):\n",
    "        d = {}\n",
    "        for i, e in enumerate(num): #enumerate(num) returns index, value\n",
    "            if e in d:\n",
    "                return d[e] + 1, i + 1 #1, 6\n",
    "            d[target - e] = i //6-0= 6 d:{6:0, -1:1, -5:2, -9:3, 3:4, }\n",
    "            #print(\"target - e is:\" , target-e)\n",
    "            #print(d[target - e])\n",
    "                     \n",
    "res = Solution();\n",
    "print(res.twoSum(num=(0,7,11,15,3,6,5,4), target = 6))"
   ]
  },
  {
   "cell_type": "code",
   "execution_count": 25,
   "metadata": {
    "collapsed": false
   },
   "outputs": [
    {
     "name": "stdout",
     "output_type": "stream",
     "text": [
      "[\"s'teL\"]\n",
      "[\"s'teL\", 'esrever']\n",
      "[\"s'teL\", 'esrever', 'siht']\n",
      "[\"s'teL\", 'esrever', 'siht', 'gnirts']\n",
      "[\"s'teL\", 'esrever', 'siht', 'gnirts', 'sa']\n",
      "[\"s'teL\", 'esrever', 'siht', 'gnirts', 'sa', 'ecitcarp']\n",
      "s'teL esrever siht gnirts sa ecitcarp\n"
     ]
    }
   ],
   "source": [
    "class Solution(object):\n",
    "    def reverseWords(self, s):\n",
    "        \"\"\"\n",
    "        :type s: str\n",
    "        :rtype: str\n",
    "        \"\"\"\n",
    "        l = s.split()\n",
    "        #print(l)\n",
    "        k = []\n",
    "        for i in l:\n",
    "            k.append(i[::-1]) #reverse a string [start, stop, step]\n",
    "            print(k)\n",
    "        t = ' '.join(k) #str.join(sequence)\n",
    "        return t\n",
    "    \n",
    "res = Solution();\n",
    "print(res.reverseWords(s=\"Let's reverse this string as practice\"))\n"
   ]
  },
  {
   "cell_type": "code",
   "execution_count": 35,
   "metadata": {
    "collapsed": false
   },
   "outputs": [
    {
     "name": "stdout",
     "output_type": "stream",
     "text": [
      "a 2\n",
      "a 2\n",
      "d 2\n",
      "d 2\n",
      "f 2\n",
      "s 2\n",
      "f 2\n",
      "s 2\n",
      "g 2\n",
      "g 2\n"
     ]
    }
   ],
   "source": [
    "\n",
    "\n"
   ]
  },
  {
   "cell_type": "code",
   "execution_count": null,
   "metadata": {
    "collapsed": true
   },
   "outputs": [],
   "source": []
  }
 ],
 "metadata": {
  "kernelspec": {
   "display_name": "Python 3",
   "language": "python",
   "name": "python3"
  },
  "language_info": {
   "codemirror_mode": {
    "name": "ipython",
    "version": 3
   },
   "file_extension": ".py",
   "mimetype": "text/x-python",
   "name": "python",
   "nbconvert_exporter": "python",
   "pygments_lexer": "ipython3",
   "version": "3.6.2"
  }
 },
 "nbformat": 4,
 "nbformat_minor": 2
}
