{
 "cells": [
  {
   "cell_type": "code",
   "execution_count": 4,
   "metadata": {
    "collapsed": false
   },
   "outputs": [
    {
     "name": "stdout",
     "output_type": "stream",
     "text": [
      "all positive numbers sum is: 26\n",
      "all negative numbers sum is: -11\n"
     ]
    }
   ],
   "source": [
    "#Given a list of number, that may contains 0, positive and negative numbers, \n",
    "#write program to add all the negative numbers and print out the sum; \n",
    "#add all the positive numbers and print out the sum too.\n",
    "#numbers = [4, 6, -2, 5, 0, 3, -9, 7, 1]\n",
    "#positive numbers sum up : 4+6+5+3+7+1\n",
    "#negative numbers sum up: (-2) + (-9)\n",
    "\n",
    "numbers = [4, 6, -2, 5, 0, 3, -9, 7, 1]\n",
    "\n",
    "sum_neg = 0\n",
    "sum_pos = 0\n",
    "\n",
    "#TODO:\n",
    "for i in numbers:\n",
    "   if i >= 0:\n",
    "     sum_pos=sum_pos + i\n",
    "   else: \n",
    "    sum_neg = sum_neg + i\n",
    "\n",
    "print(\"all positive numbers sum is:\", sum_pos) #suppose to be 4+6+5+3+7+1=26\n",
    "print(\"all negative numbers sum is:\", sum_neg) #suppose to be (-2) + (-9)= -11\n",
    "\n",
    "\n"
   ]
  },
  {
   "cell_type": "code",
   "execution_count": 14,
   "metadata": {
    "collapsed": false
   },
   "outputs": [
    {
     "name": "stdout",
     "output_type": "stream",
     "text": [
      "1\n",
      "3\n",
      "5\n",
      "7\n",
      "9\n",
      "11\n"
     ]
    }
   ],
   "source": [
    "#range() funtion\n",
    "#range(start, end)\n",
    "#range(start, end, step)\n",
    "\n",
    "# Don't use range function to print out odd numbers between 0 - 11\n",
    "# hint: use \"while\" keyword\n",
    "\n",
    "stuff = 1\n",
    "while(stuff < 12):\n",
    "    print(stuff)\n",
    "    stuff = stuff + 2\n",
    "\n",
    "    \n"
   ]
  },
  {
   "cell_type": "code",
   "execution_count": 20,
   "metadata": {
    "collapsed": false
   },
   "outputs": [
    {
     "name": "stdout",
     "output_type": "stream",
     "text": [
      "APPLE = RED\n",
      "BANANA = YELLOW\n",
      "WATERMELON = GREEN\n",
      "KIWI = BROWN\n",
      "PAPAYA = ORANGE\n",
      "UNKNOWN COLOR\n"
     ]
    }
   ],
   "source": [
    "#Given a list of fruit_list =[\"apple\", \"banana\", \"watermelon\", \"kiwi\", \"papaya\", \"plum\"], \n",
    "#print out the colors: if it is apple, print “red”; \n",
    "#if it is watermelon, print “green”, \n",
    "#if it is banana, print “yellow”, \n",
    "#if it is kiwi, print “brown”, \n",
    "#if it is papaya, print “orange”. \n",
    "#Else, print “unknown”\n",
    "\n",
    "fruit_list=[\"apple\", \"banana\", \"watermelon\", \"kiwi\", \"papaya\", \"plum\", \"pear\"]\n",
    "for fruit in fruit_list:\n",
    "    if fruit == \"apple\":\n",
    "        print(\"APPLE = RED\")\n",
    "    elif fruit == \"banana\":\n",
    "        print(\"BANANA = YELLOW\")\n",
    "    elif fruit == \"watermelon\":\n",
    "        print(\"WATERMELON = GREEN\")\n",
    "    elif fruit == \"kiwi\":\n",
    "        print(\"KIWI = BROWN\")\n",
    "    elif fruit == \"papaya\":\n",
    "        print(\"PAPAYA = ORANGE\")\n",
    "else:\n",
    "    print(\"UNKNOWN COLOR\")\n"
   ]
  },
  {
   "cell_type": "code",
   "execution_count": 42,
   "metadata": {
    "collapsed": false
   },
   "outputs": [
    {
     "name": "stdout",
     "output_type": "stream",
     "text": [
      "Yes!\n"
     ]
    }
   ],
   "source": [
    "#A college is going to have a basketball competition. \n",
    "#There are 50 students joined cheerleaders team. \n",
    "#Lisa wants to find out if her friend Ann is in the team. \n",
    "#Print out “yes” if Ann is in the team. \n",
    "cheerLeaders = [\"John\", \"Lisa\", \"Raj\", \"Lily\", \"Sam\", \"Jennie\", \"Sally\", \"Yuna\", \"Sammy\", \"Jung\", \"Harry\", \"Ann\", \"Bella\", \"Issa\", \"Jullie\" , \"April\", \"Chris\", \"Kris\", \"Eugene\", \"Vasan\" ,\"Jonny\", \"Adam\", \"Eva\", \"Sophie\", \"Linda\" ,\"Doris\", \"Ivy\", \"Alex\", \"Sasha\", \"Nalla\" ,\"Maxie\", \"Trinity\", \"Neo\", \"Leo\", \"Kate\" ,\"Cathy\", \"Beth\", \"Lucy\",\"Isabella\", \"Katherina\" ,\"Elizabeth\", \"Hope\", \"Happy\", \"May\", \"Arina\", \"Lou\", \"Owen\", \"Kyle\", \"Arianna\", \"Billy\"]\n",
    "result = \"Not found.\"\n",
    "#TODO:\n",
    "#if Ann is in the list, change result to \"Yes!\"\n",
    "for i in cheerLeaders:\n",
    "    if i==\"Ann\":\n",
    "        print(\"Yes!\")\n",
    "        break\n",
    "\n",
    "#print(result)"
   ]
  },
  {
   "cell_type": "code",
   "execution_count": 56,
   "metadata": {
    "collapsed": false
   },
   "outputs": [
    {
     "name": "stdout",
     "output_type": "stream",
     "text": [
      "1\n",
      "2\n",
      "3\n",
      "4\n",
      "6\n",
      "7\n",
      "8\n",
      "9\n",
      "10\n"
     ]
    }
   ],
   "source": [
    "#Print out all the numbers from 0 to 10, except 5.\n",
    "#use while\n",
    "i = 0 \n",
    "while (i < 10):\n",
    "    i=i+1\n",
    "    if i == 5:\n",
    "         continue\n",
    "    print(i)\n"
   ]
  },
  {
   "cell_type": "code",
   "execution_count": 50,
   "metadata": {
    "collapsed": false
   },
   "outputs": [
    {
     "name": "stdout",
     "output_type": "stream",
     "text": [
      "* \n",
      "* * \n",
      "* * * \n",
      "* * * * \n",
      "* * * * * \n"
     ]
    }
   ],
   "source": [
    "#end parameter in print()\n",
    "#print(\"*\", end=\" \")\n",
    "#print a triangle shape with “*”, 5 rows total\n",
    "#Output: \n",
    "#* \n",
    "#* * \n",
    "#* * * \n",
    "#* * * * \n",
    "#* * * * * \n",
    "\n",
    "rows = 5\n",
    "for i in range(1, rows+1):\n",
    "    n = 0\n",
    "    while(n != i):\n",
    "        print(\"*\", end=\" \")\n",
    "        n = n+1\n",
    "    #print line break\n",
    "    print()    "
   ]
  },
  {
   "cell_type": "code",
   "execution_count": 52,
   "metadata": {
    "collapsed": false
   },
   "outputs": [
    {
     "name": "stdout",
     "output_type": "stream",
     "text": [
      "* \n",
      "* * \n",
      "* * * \n",
      "* * * * \n"
     ]
    }
   ],
   "source": [
    "#1\n",
    "#2 2\n",
    "#3 3 3\n",
    "#4 4 4 4\n",
    "\n",
    "for i in range(1,5):\n",
    "    for j in range(i):\n",
    "        print(\"*\", end=\" \")\n",
    "    print()    \n"
   ]
  },
  {
   "cell_type": "code",
   "execution_count": 53,
   "metadata": {
    "collapsed": false
   },
   "outputs": [
    {
     "name": "stdout",
     "output_type": "stream",
     "text": [
      "* * * * * \n",
      "* * * * * \n",
      "* * * * * \n",
      "* * * * * \n",
      "* * * * * \n"
     ]
    }
   ],
   "source": [
    "#* * * * * \n",
    "#* * * * * \n",
    "#* * * * * \n",
    "#* * * * * \n",
    "#* * * * * \n",
    "\n",
    "for meh in range(1, rows + 1):\n",
    "    n = 0\n",
    "    while(n != 5):\n",
    "        print(\"*\",end=\" \")\n",
    "        n = n + 1\n",
    "    print()\n"
   ]
  },
  {
   "cell_type": "code",
   "execution_count": 55,
   "metadata": {
    "collapsed": false
   },
   "outputs": [
    {
     "name": "stdout",
     "output_type": "stream",
     "text": [
      "* * * * * \n",
      "* * * * * \n",
      "* * * * * \n",
      "* * * * * \n",
      "* * * * * \n"
     ]
    }
   ],
   "source": [
    "for i in range(1,6):\n",
    "    for i in range(5):\n",
    "        print(\"*\",end=\" \")\n",
    "    print() \n"
   ]
  },
  {
   "cell_type": "code",
   "execution_count": null,
   "metadata": {
    "collapsed": true
   },
   "outputs": [],
   "source": []
  }
 ],
 "metadata": {
  "kernelspec": {
   "display_name": "Python 3",
   "language": "python",
   "name": "python3"
  },
  "language_info": {
   "codemirror_mode": {
    "name": "ipython",
    "version": 3
   },
   "file_extension": ".py",
   "mimetype": "text/x-python",
   "name": "python",
   "nbconvert_exporter": "python",
   "pygments_lexer": "ipython3",
   "version": "3.6.2"
  }
 },
 "nbformat": 4,
 "nbformat_minor": 2
}
