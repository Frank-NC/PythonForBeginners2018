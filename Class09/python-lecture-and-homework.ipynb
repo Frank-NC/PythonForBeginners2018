{
 "cells": [
  {
   "cell_type": "markdown",
   "metadata": {},
   "source": [
    "<h1 id=\"tocheading\">Python Lesson</h1>\n",
    "<div id=\"toc\"></div>"
   ]
  },
  {
   "cell_type": "code",
   "execution_count": 1,
   "metadata": {
    "collapsed": false
   },
   "outputs": [
    {
     "data": {
      "application/javascript": [
       "$.getScript(\"https://kmahelona.github.io/ipython_notebook_goodies/ipython_notebook_toc.js\")"
      ],
      "text/plain": [
       "<IPython.core.display.Javascript object>"
      ]
     },
     "metadata": {},
     "output_type": "display_data"
    }
   ],
   "source": [
    "%%javascript\n",
    "$.getScript(\"https://kmahelona.github.io/ipython_notebook_goodies/ipython_notebook_toc.js\")"
   ]
  },
  {
   "cell_type": "markdown",
   "metadata": {},
   "source": [
    "# Class"
   ]
  },
  {
   "cell_type": "markdown",
   "metadata": {},
   "source": [
    "## Different Programming Paradigms\n",
    "3 Different approaches, we will focus on OOP, and will use examples to illustrate the difference\n",
    "\n",
    "* Procedure Programming\n",
    "* Object Oriented Programming\n",
    "* Functional Programming"
   ]
  },
  {
   "cell_type": "markdown",
   "metadata": {},
   "source": [
    "## Procedural Programming\n",
    "* focus on data\n",
    "* input and output\n",
    "* use functions/subroutines to process input and produce output\n",
    "* good software system often decouple into separate modules to complete different functionalities"
   ]
  },
  {
   "cell_type": "markdown",
   "metadata": {},
   "source": [
    "## Object Oriented Programming\n",
    "* model the world with class and objects\n",
    "* abstract the world into an hierarchy of classes\n",
    "* use class as template, create objects (class instance)\n",
    "* objects interact with each other to achieve some objectives"
   ]
  },
  {
   "cell_type": "markdown",
   "metadata": {},
   "source": [
    "### OOP Basic Concepts\n",
    "\n",
    "* abstraction\n",
    " * find similar objects, focus the important aspect and leave out the details\n",
    " * important aspects are a. what is it? b. what can it do?\n",
    " * attribute ( data member ) \n",
    " * methods ( member functions, etc )\n",
    " * Examples: \n",
    "  * A cat is an animal has whiskers, paws, tails and it can climb a tree and mew\n",
    "  * A dog has paws, tails but no whiskers!  it can bark.\n",
    "  * Implementation in Python:\n",
    "  * cat.color = \"yellow\"\n",
    "  * cat.climb()\n",
    "  * dog.bark()\n",
    " * through abstraction, you derive different classes: cat, dog, ...\n",
    " * through instantiation, you get objects / instances: cat 1, cat 2 ...\n",
    " \n",
    "* encapsulation: \n",
    " * why do we encapsulate implemention?\n",
    " * privacy and delegation\n",
    " * car (class) can move from one place to another\n",
    " * we let car do its job:\n",
    "  * car.add_fuel(), car.move()\n",
    "  * add_fuel method will either add gas or charge itself ( electrical cars )\n",
    " * encapsulation help a smooth migration from one technology to another\n",
    "\n",
    "* inheritance:\n",
    " * model an is-a relationship. \n",
    " * create a hierarchy of classes\n",
    " * dog is subclass of animal, golden retriever is a subclass of dog\n",
    "\n",
    "* polymorphism: \n",
    " * ploymorphism means many forms. \n",
    " * a base class's function can take many forms\n",
    " * example: \n",
    "  * car.add_fuel()"
   ]
  },
  {
   "cell_type": "markdown",
   "metadata": {},
   "source": [
    "## Functional Programming\n",
    "* focus on data transformation in parellel\n",
    "* create anonymous functions on the fly\n",
    "* map and reduce\n",
    "* a lot more..."
   ]
  },
  {
   "cell_type": "markdown",
   "metadata": {},
   "source": [
    "## Example"
   ]
  },
  {
   "cell_type": "code",
   "execution_count": 2,
   "metadata": {
    "collapsed": true
   },
   "outputs": [],
   "source": [
    "# procedure programming\n",
    "def f2c(fahrenheit):\n",
    "    celsius = ( fahrenheit - 32. ) * 5 / 9\n",
    "    return celsius\n",
    "\n",
    "def c2f(celsius):\n",
    "    fahrenheit = 9.0 / 5.0 * celsius + 32.\n",
    "    return fahrenheit"
   ]
  },
  {
   "cell_type": "code",
   "execution_count": 3,
   "metadata": {
    "collapsed": false
   },
   "outputs": [
    {
     "data": {
      "text/plain": [
       "35.0"
      ]
     },
     "execution_count": 3,
     "metadata": {},
     "output_type": "execute_result"
    }
   ],
   "source": [
    "f2c(95)"
   ]
  },
  {
   "cell_type": "code",
   "execution_count": 4,
   "metadata": {
    "collapsed": false
   },
   "outputs": [
    {
     "data": {
      "text/plain": [
       "95.0"
      ]
     },
     "execution_count": 4,
     "metadata": {},
     "output_type": "execute_result"
    }
   ],
   "source": [
    "c2f(35)"
   ]
  },
  {
   "cell_type": "code",
   "execution_count": 5,
   "metadata": {
    "collapsed": false
   },
   "outputs": [
    {
     "name": "stdout",
     "output_type": "stream",
     "text": [
      "convert from celsius to fahrenheit\n",
      "(0, 32.0)\n",
      "(5, 41.0)\n",
      "(10, 50.0)\n",
      "(15, 59.0)\n",
      "(20, 68.0)\n",
      "(25, 77.0)\n",
      "(30, 86.0)\n",
      "(35, 95.0)\n"
     ]
    }
   ],
   "source": [
    "print(\"convert from celsius to fahrenheit\")\n",
    "for temperature in range(0, 40, 5):\n",
    "    print(temperature, c2f(temperature))"
   ]
  },
  {
   "cell_type": "code",
   "execution_count": 6,
   "metadata": {
    "collapsed": true
   },
   "outputs": [],
   "source": [
    "# Object Oriented Programming\n",
    "class Converter():  # pay attention to syntax !!! different than function\n",
    "    count = 0\n",
    "    def __init__(self, name=\"\"):\n",
    "        print(\"__init__ called with {}\".format(name))\n",
    "        self.result = 0  # property\n",
    "        self.name = name\n",
    "        Converter.count += 1\n",
    "    \n",
    "    def to_celsius(self, fahrenheit):\n",
    "        \"\"\" convert fahrenheit to celsius \"\"\"\n",
    "        self.result = ( fahrenheit - 32. ) * 5 / 9\n",
    "        print(self.result)\n",
    "        return self\n",
    "    \n",
    "    def to_fahrenheit(self, celsius):\n",
    "        self.result = 9.0 / 5.0 * celsius + 32.\n",
    "        print(self.result)\n",
    "        return self\n",
    "    \n",
    "    def last_result(self):\n",
    "        print(self.result)"
   ]
  },
  {
   "cell_type": "code",
   "execution_count": 7,
   "metadata": {
    "collapsed": false
   },
   "outputs": [
    {
     "name": "stdout",
     "output_type": "stream",
     "text": [
      "__init__ called with converter #1\n",
      "35.0\n",
      "95.0\n",
      "95.0\n",
      "converter #1\n",
      "__init__ called with converter #2\n",
      "converter #2\n"
     ]
    },
    {
     "data": {
      "text/plain": [
       "(2, 2)"
      ]
     },
     "execution_count": 7,
     "metadata": {},
     "output_type": "execute_result"
    }
   ],
   "source": [
    "c = Converter(name=\"converter #1\")  # an converter object is called. and __init__ is called to initialized the object\n",
    "c.to_celsius(95)\n",
    "c.to_fahrenheit(35)\n",
    "c.last_result()\n",
    "print(c.name)\n",
    "d = Converter(name=\"converter #2\")\n",
    "print(d.name)\n",
    "# class variable\n",
    "c.count, d.count"
   ]
  },
  {
   "cell_type": "code",
   "execution_count": 8,
   "metadata": {
    "collapsed": false
   },
   "outputs": [
    {
     "data": {
      "text/plain": [
       "[32.0, 41.0, 50.0, 59.0, 68.0, 77.0, 86.0, 95.0]"
      ]
     },
     "execution_count": 8,
     "metadata": {},
     "output_type": "execute_result"
    }
   ],
   "source": [
    "# Functional Programming -- it's totally ok if you feel dizzy, just ignore this part ;-)\n",
    "# map input celius to fahrenheit\n",
    "# lambda <input> : <transformation as output>\n",
    "f = lambda c: 9.0 / 5.0 * c + 32.\n",
    "map(f, range(0, 40, 5))"
   ]
  },
  {
   "cell_type": "code",
   "execution_count": 9,
   "metadata": {
    "collapsed": false
   },
   "outputs": [
    {
     "data": {
      "text/plain": [
       "508.0"
      ]
     },
     "execution_count": 9,
     "metadata": {},
     "output_type": "execute_result"
    }
   ],
   "source": [
    "# what if I just want to see the total output?\n",
    "# map and reduce\n",
    "# map input from a sequence of cecius to a sequence of fahranheit\n",
    "# reduce: sum the sequence\n",
    "# reduce(function, sequence[, initial]) -> value\n",
    "# you can directly embed anonymous function using lambda syntax\n",
    "reduce(lambda x,y:x+y, map(lambda c: 9.0 / 5.0 * c + 32., range(0, 40, 5)) )"
   ]
  },
  {
   "cell_type": "markdown",
   "metadata": {},
   "source": [
    "## More examples on Class"
   ]
  },
  {
   "cell_type": "code",
   "execution_count": 14,
   "metadata": {
    "collapsed": true
   },
   "outputs": [],
   "source": [
    "class Car():\n",
    "    def __init__(self, name, color):\n",
    "        self.name = name\n",
    "        self.color = color\n",
    "    def add_fuel(self):\n",
    "        pass\n",
    "    \n",
    "class Jeep(Car):\n",
    "    def __init__(self, color):\n",
    "        # python 3: Car.__init__(\"Jeep\", \"Green\")\n",
    "        Car.__init__(self, \"Jeep\", color)\n",
    "        \n",
    "    def add_fuel(self):\n",
    "        print(\"drinking gas...\")\n",
    "        \n",
    "class Tesla(Car):\n",
    "    def __init__(self, color):\n",
    "        # python 3: Car.__init__(\"Tesla\", \"Black\")\n",
    "        Car.__init__(self, \"Tesla\", color)\n",
    "        \n",
    "    def add_fuel(self):\n",
    "        print(\"charging...\")"
   ]
  },
  {
   "cell_type": "code",
   "execution_count": 15,
   "metadata": {
    "collapsed": false
   },
   "outputs": [
    {
     "name": "stdout",
     "output_type": "stream",
     "text": [
      "Jeep\n",
      "drinking gas...\n",
      "Tesla\n",
      "charging...\n"
     ]
    }
   ],
   "source": [
    "f = Jeep(\"Green\")\n",
    "print(f.name)\n",
    "f.add_fuel()\n",
    "\n",
    "t = Tesla(\"Black\")\n",
    "print(t.name)\n",
    "t.add_fuel()"
   ]
  },
  {
   "cell_type": "code",
   "execution_count": null,
   "metadata": {
    "collapsed": true
   },
   "outputs": [],
   "source": []
  },
  {
   "cell_type": "code",
   "execution_count": null,
   "metadata": {
    "collapsed": true
   },
   "outputs": [],
   "source": []
  },
  {
   "cell_type": "code",
   "execution_count": null,
   "metadata": {
    "collapsed": true
   },
   "outputs": [],
   "source": []
  },
  {
   "cell_type": "markdown",
   "metadata": {},
   "source": [
    "# Homework\n",
    "### use functional programming, write a function to find all complete numbers in the range(0,100)\n",
    " * a complete number is a number equals to the sum of its factors: 6 = 1 + 2 + 3\n",
    " * to test if a is a factor of b:  if b % a == 0\n",
    " \n",
    "### use OOP, write a class to encode a string to a number according to this\n",
    " * input 1: \"aBc\"\n",
    " * transform \"aBc\" to all upper cases \"ABC\"\n",
    " * transform \"ABC\" -> 1,2,3 \n",
    " * transform 1, 2, 3 to 6 by sum all the numbers  1+2+3=6\n",
    " * output 6\n",
    " * input 2: \"attitude\" , output: 100\n",
    " \n",
    "### bonus: use functional programming to implement the above encoding"
   ]
  },
  {
   "cell_type": "code",
   "execution_count": null,
   "metadata": {
    "collapsed": true
   },
   "outputs": [],
   "source": []
  }
 ],
 "metadata": {
  "kernelspec": {
   "display_name": "Python 2",
   "language": "python",
   "name": "python2"
  },
  "language_info": {
   "codemirror_mode": {
    "name": "ipython",
    "version": 2
   },
   "file_extension": ".py",
   "mimetype": "text/x-python",
   "name": "python",
   "nbconvert_exporter": "python",
   "pygments_lexer": "ipython2",
   "version": "2.7.10"
  }
 },
 "nbformat": 4,
 "nbformat_minor": 2
}
