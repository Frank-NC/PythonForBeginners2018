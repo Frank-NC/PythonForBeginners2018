{
 "cells": [
  {
   "cell_type": "code",
   "execution_count": 55,
   "metadata": {},
   "outputs": [
    {
     "name": "stdout",
     "output_type": "stream",
     "text": [
      "hello\n"
     ]
    }
   ],
   "source": [
    "def hello_func():\n",
    "    return \"hello\"\n",
    "\n",
    "print(hello_func())"
   ]
  },
  {
   "cell_type": "code",
   "execution_count": 4,
   "metadata": {},
   "outputs": [
    {
     "name": "stdout",
     "output_type": "stream",
     "text": [
      "None\n"
     ]
    }
   ],
   "source": [
    "def hello_func():\n",
    "    pass\n",
    "\n",
    "print(hello_func())"
   ]
  },
  {
   "cell_type": "code",
   "execution_count": 48,
   "metadata": {},
   "outputs": [
    {
     "name": "stdout",
     "output_type": "stream",
     "text": [
      "hello world!\n"
     ]
    }
   ],
   "source": [
    "def hello_func():\n",
    "     print(\"hello world!\")\n",
    "\n",
    "hello_func()\n"
   ]
  },
  {
   "cell_type": "code",
   "execution_count": 50,
   "metadata": {},
   "outputs": [
    {
     "name": "stdout",
     "output_type": "stream",
     "text": [
      "hello world!\n"
     ]
    }
   ],
   "source": [
    "def hello_func():\n",
    "     print(\"hello world!\")\n",
    "\n",
    "hello_func()"
   ]
  },
  {
   "cell_type": "code",
   "execution_count": 11,
   "metadata": {},
   "outputs": [
    {
     "name": "stdout",
     "output_type": "stream",
     "text": [
      "hello, Lily\n",
      "hello, Bill\n",
      "hello, Rick\n",
      "hello, Jim\n"
     ]
    }
   ],
   "source": [
    "#example: print out hello to welcome each student in the dancing class, which only has 4 students.\n",
    "#hello, Lily\n",
    "#hello, Bill\n",
    "#hello, Rick\n",
    "#hello, Jim\n",
    "print(\"hello, Lily\")\n",
    "print(\"hello, Bill\")\n",
    "print(\"hello, Rick\")\n",
    "print(\"hello, Jim\")\n",
    "#now, the dancing class is growing, we have 20 students now... what to do?"
   ]
  },
  {
   "cell_type": "code",
   "execution_count": 58,
   "metadata": {},
   "outputs": [
    {
     "ename": "TypeError",
     "evalue": "hello_func() missing 1 required positional argument: 'name'",
     "output_type": "error",
     "traceback": [
      "\u001b[0;31m---------------------------------------------------------------------------\u001b[0m",
      "\u001b[0;31mTypeError\u001b[0m                                 Traceback (most recent call last)",
      "\u001b[0;32m<ipython-input-58-df18909c9d6c>\u001b[0m in \u001b[0;36m<module>\u001b[0;34m()\u001b[0m\n\u001b[1;32m      5\u001b[0m \u001b[1;33m\u001b[0m\u001b[0m\n\u001b[1;32m      6\u001b[0m \u001b[1;32mfor\u001b[0m \u001b[0mname\u001b[0m \u001b[1;32min\u001b[0m \u001b[0mstudents\u001b[0m\u001b[1;33m:\u001b[0m\u001b[1;33m\u001b[0m\u001b[0m\n\u001b[0;32m----> 7\u001b[0;31m     \u001b[0mhello_func\u001b[0m\u001b[1;33m(\u001b[0m\u001b[1;33m)\u001b[0m\u001b[1;33m\u001b[0m\u001b[0m\n\u001b[0m",
      "\u001b[0;31mTypeError\u001b[0m: hello_func() missing 1 required positional argument: 'name'"
     ]
    }
   ],
   "source": [
    "def hello_func(name):\n",
    "    print('hello, {}'.format(name))\n",
    "    \n",
    "students = [\"Lily\", \"Bill\", \"Rick\", \"Jim\", \"Kevin\", \"Sarah\", \"Monica\", \"Jill\", \"Jack\", \"Eva\"]\n",
    "\n",
    "for name in students:\n",
    "    hello_func(name)"
   ]
  },
  {
   "cell_type": "code",
   "execution_count": 59,
   "metadata": {},
   "outputs": [
    {
     "name": "stdout",
     "output_type": "stream",
     "text": [
      "hello, Lily\n"
     ]
    }
   ],
   "source": [
    "def hello_func(name='Lily'):\n",
    "    return 'hello, {}'.format(name)\n",
    "\n",
    "#print(hello_func('John'))\n",
    "\n",
    "var = hello_func()\n",
    "print(var)"
   ]
  },
  {
   "cell_type": "code",
   "execution_count": 61,
   "metadata": {},
   "outputs": [
    {
     "name": "stdout",
     "output_type": "stream",
     "text": [
      "hello, John\n",
      "Age: 10\n",
      "hello, Ann\n",
      "Age: 15\n"
     ]
    }
   ],
   "source": [
    "def hello_func(name, age):\n",
    "    print ('hello, {}'.format(name))\n",
    "    print ('Age: {}'.format(age))\n",
    "\n",
    "hello_func(age='10', name='John')\n",
    "hello_func(name='Ann', age='15')\n",
    "\n"
   ]
  },
  {
   "cell_type": "code",
   "execution_count": 63,
   "metadata": {},
   "outputs": [
    {
     "name": "stdout",
     "output_type": "stream",
     "text": [
      "School name: Green Hope\n",
      "Students: \n",
      "John\n",
      "Lily\n",
      "Kevin\n",
      "Mary\n",
      "Kyle\n"
     ]
    }
   ],
   "source": [
    "def hello_func(school, *names):\n",
    "    print(\"School name: \"+ school)\n",
    "    print(\"Students: \")\n",
    "    \n",
    "    for n in names:\n",
    "         print (n)\n",
    "    \n",
    "hello_func(\"Green Hope\",\"John\", \"Lily\", \"Kevin\",\"Mary\", \"Kyle\") \n"
   ]
  },
  {
   "cell_type": "code",
   "execution_count": 68,
   "metadata": {},
   "outputs": [
    {
     "name": "stdout",
     "output_type": "stream",
     "text": [
      "Inside function local total is: 0\n",
      "Outside function global total is: 0\n"
     ]
    }
   ],
   "source": [
    "#local variables and global variables\n",
    "total = 0;\n",
    "\n",
    "def sum(var1, var2):\n",
    "    #total\n",
    "    in_total = var1 + var2\n",
    "    print (\"Inside function local total is:\", total)\n",
    "    return total\n",
    "\n",
    "sum(10, 20)\n",
    "print (\"Outside function global total is:\", total)\n"
   ]
  },
  {
   "cell_type": "code",
   "execution_count": 73,
   "metadata": {},
   "outputs": [
    {
     "data": {
      "text/plain": [
       "31"
      ]
     },
     "execution_count": 73,
     "metadata": {},
     "output_type": "execute_result"
    }
   ],
   "source": [
    "#practice\n",
    "month_days = [0, 31, 28, 31, 30, 31, 30, 31, 31, 30, 31, 30, 31]\n",
    "\n",
    "def is_leap(year):\n",
    "    \"\"\" Return True for leap years, False for non-leap years.\"\"\"\n",
    "    #determin leap year: divisible by 4, and not divisible by 100 or divisible by 400\n",
    "    return (year%4==0) and (year%100 !=0 or year%400 ==0)\n",
    "\n",
    "def days_in_month(year, month):\n",
    "    \"\"\"Return number of days in that month in that year.\"\"\"\n",
    "    if not 1<=month <=12:\n",
    "        return \"Invalid Month\"\n",
    "    if month==2 and is_leap(year):\n",
    "        return 29\n",
    "    \n",
    "    return month_days[month]\n",
    "\n",
    "days_in_month(2018, 3)\n"
   ]
  },
  {
   "cell_type": "code",
   "execution_count": 45,
   "metadata": {},
   "outputs": [
    {
     "ename": "TypeError",
     "evalue": "sum() missing 1 required positional argument: 'var2'",
     "output_type": "error",
     "traceback": [
      "\u001b[0;31m---------------------------------------------------------------------------\u001b[0m",
      "\u001b[0;31mTypeError\u001b[0m                                 Traceback (most recent call last)",
      "\u001b[0;32m<ipython-input-45-de999f105410>\u001b[0m in \u001b[0;36m<module>\u001b[0;34m()\u001b[0m\n\u001b[1;32m      4\u001b[0m     'banana': 6}\n\u001b[1;32m      5\u001b[0m grocery_bill = sum(prices[fruit] * my_purchase[fruit]\n\u001b[0;32m----> 6\u001b[0;31m                    for fruit in my_purchase)\n\u001b[0m\u001b[1;32m      7\u001b[0m \u001b[0mprint\u001b[0m \u001b[1;33m(\u001b[0m\u001b[1;34m'I owe the grocer $%.2f'\u001b[0m \u001b[1;33m%\u001b[0m \u001b[0mgrocery_bill\u001b[0m\u001b[1;33m)\u001b[0m\u001b[1;33m\u001b[0m\u001b[0m\n",
      "\u001b[0;31mTypeError\u001b[0m: sum() missing 1 required positional argument: 'var2'"
     ]
    }
   ],
   "source": [
    "prices = {'apple': 0.40, 'banana': 0.50}\n",
    "my_purchase = {'apple': 1,'banana': 6}\n",
    "grocery_bill = sum(prices[fruit] * my_purchase[fruit]\n",
    "                   for fruit in my_purchase)\n",
    "print ('I owe the grocer $%.2f' % grocery_bill)"
   ]
  },
  {
   "cell_type": "code",
   "execution_count": 72,
   "metadata": {},
   "outputs": [
    {
     "name": "stdout",
     "output_type": "stream",
     "text": [
      "29\n"
     ]
    }
   ],
   "source": [
    "day = 0\n",
    "def days(year,month):\n",
    "    \n",
    "    if (month == 1 or 3 or 5 or 7 or 8 or 10 or 12):\n",
    "        day = 31\n",
    "    else:\n",
    "        day = 30\n",
    "    if (year%4==0):\n",
    "        if (month == 2):\n",
    "            day = 29\n",
    "        else:\n",
    "            return day\n",
    "    else:\n",
    "        if (month == 2):\n",
    "            day = 28\n",
    "    print(day)\n",
    "days(1900,2)\n"
   ]
  },
  {
   "cell_type": "code",
   "execution_count": 80,
   "metadata": {},
   "outputs": [
    {
     "ename": "TypeError",
     "evalue": "ord() expected a character, but string of length 3 found",
     "output_type": "error",
     "traceback": [
      "\u001b[0;31m---------------------------------------------------------------------------\u001b[0m",
      "\u001b[0;31mTypeError\u001b[0m                                 Traceback (most recent call last)",
      "\u001b[0;32m<ipython-input-80-0f9a805a629a>\u001b[0m in \u001b[0;36m<module>\u001b[0;34m()\u001b[0m\n\u001b[0;32m----> 1\u001b[0;31m \u001b[0mord\u001b[0m\u001b[1;33m(\u001b[0m\u001b[1;34m\"NUL\"\u001b[0m\u001b[1;33m)\u001b[0m\u001b[1;33m\u001b[0m\u001b[0m\n\u001b[0m",
      "\u001b[0;31mTypeError\u001b[0m: ord() expected a character, but string of length 3 found"
     ]
    }
   ],
   "source": [
    "ord('C')"
   ]
  },
  {
   "cell_type": "code",
   "execution_count": 81,
   "metadata": {},
   "outputs": [
    {
     "data": {
      "text/plain": [
       "'\\x06'"
      ]
     },
     "execution_count": 81,
     "metadata": {},
     "output_type": "execute_result"
    }
   ],
   "source": [
    "chr(6)"
   ]
  },
  {
   "cell_type": "code",
   "execution_count": null,
   "metadata": {
    "collapsed": true
   },
   "outputs": [],
   "source": []
  }
 ],
 "metadata": {
  "kernelspec": {
   "display_name": "Python 3",
   "language": "python",
   "name": "python3"
  },
  "language_info": {
   "codemirror_mode": {
    "name": "ipython",
    "version": 3
   },
   "file_extension": ".py",
   "mimetype": "text/x-python",
   "name": "python",
   "nbconvert_exporter": "python",
   "pygments_lexer": "ipython3",
   "version": "3.7.3"
  }
 },
 "nbformat": 4,
 "nbformat_minor": 2
}
