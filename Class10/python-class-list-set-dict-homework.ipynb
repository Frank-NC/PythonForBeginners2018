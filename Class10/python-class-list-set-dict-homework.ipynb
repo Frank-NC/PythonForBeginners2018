{
 "cells": [
  {
   "cell_type": "markdown",
   "metadata": {},
   "source": [
    "# Homework for Python List, Set, Dict \n",
    "\n",
    "## Read the textbook\n",
    "\n",
    "\"Python for kids\" is our text book. If you Google \"Python for kids, pdf\", the book should come out at the top of the search results as a free download pdf file.\n",
    "\n",
    "Read the textbook chapters regarding the \"List\", \"Set\" and \"Dictionary\""
   ]
  },
  {
   "cell_type": "markdown",
   "metadata": {},
   "source": [
    "## List\n",
    "\n",
    "extra readings: https://www.programiz.com/python-programming/list\n",
    "\n",
    "1)\n",
    "\n",
    "* Create a list of five of your favorite movies\n",
    "* enumerate all movies (print out the list)\n",
    "* use 'append' to add a new movie at the end of list, then print out the list.\n",
    "* pop out the first element of the list, then print out the list.\n",
    "* reverse the list, then print out the ist."
   ]
  },
  {
   "cell_type": "code",
   "execution_count": null,
   "metadata": {
    "collapsed": true
   },
   "outputs": [],
   "source": []
  },
  {
   "cell_type": "markdown",
   "metadata": {},
   "source": [
    "2)\n",
    "\n",
    "* use list comprehension to make a list contain all even numbers, between 0 and 20 ( 0 and 20 included )\n",
    "\n",
    "Hints:\n",
    "\n",
    "* you may need to use mod operator %\n",
    "* [What is \"List Comprehension\"](http://www.secnetix.de/olli/Python/list_comprehensions.hawk)"
   ]
  },
  {
   "cell_type": "code",
   "execution_count": null,
   "metadata": {
    "collapsed": true
   },
   "outputs": [],
   "source": []
  },
  {
   "cell_type": "markdown",
   "metadata": {},
   "source": [
    "Write a Python program to display the first and last colors from the following list. Assume you can't count the length of the list by looking at the list. You can use Python function to get the length of the list.\n",
    "\n",
    "color_list = [\"Red\",\"Green\",\"White\" ,\"Black\", \"Blue\", \"Grey\", \"Orange\"]"
   ]
  },
  {
   "cell_type": "code",
   "execution_count": null,
   "metadata": {
    "collapsed": true
   },
   "outputs": [],
   "source": []
  },
  {
   "cell_type": "markdown",
   "metadata": {},
   "source": [
    "## Set\n",
    "\n",
    "Extra reading: https://www.programiz.com/python-programming/set\n",
    "\n",
    "* create a set of all top 4 fruits that you like, put it in set A\n",
    "* create another set of top 4 fruits that your dad or mom like, put it in set B\n",
    "* find and print out what fruits that both you and your parent like\n",
    "* find and print out what fruits that only you like"
   ]
  },
  {
   "cell_type": "code",
   "execution_count": null,
   "metadata": {
    "collapsed": true
   },
   "outputs": [],
   "source": []
  },
  {
   "cell_type": "markdown",
   "metadata": {},
   "source": [
    "## Dict\n",
    "\n",
    "Extra Reading: https://www.programiz.com/python-programming/dictionary\n",
    "\n",
    "* create a dict that contain key-value pairs of {country: capital}, example: {'US': 'Washington DC'}, put at least 5 entries in it\n",
    "* print all the country names\n",
    "* print all capitals\n",
    "* add one entry to the dict\n",
    "* check if 'China' in your dict keys\n",
    "* check if 'Shanghai' in your dict values"
   ]
  },
  {
   "cell_type": "code",
   "execution_count": null,
   "metadata": {
    "collapsed": true
   },
   "outputs": [],
   "source": []
  }
 ],
 "metadata": {
  "anaconda-cloud": {},
  "kernelspec": {
   "display_name": "Python [default]",
   "language": "python",
   "name": "python3"
  },
  "language_info": {
   "codemirror_mode": {
    "name": "ipython",
    "version": 3
   },
   "file_extension": ".py",
   "mimetype": "text/x-python",
   "name": "python",
   "nbconvert_exporter": "python",
   "pygments_lexer": "ipython3",
   "version": "3.5.2"
  }
 },
 "nbformat": 4,
 "nbformat_minor": 2
}
